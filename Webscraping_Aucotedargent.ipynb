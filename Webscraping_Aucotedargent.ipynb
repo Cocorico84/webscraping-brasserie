{
 "cells": [
  {
   "cell_type": "code",
   "execution_count": 1,
   "metadata": {},
   "outputs": [],
   "source": [
    "from bs4 import BeautifulSoup\n",
    "from urllib.request import urlopen\n",
    "import pandas as pd\n",
    "import re"
   ]
  },
  {
   "cell_type": "code",
   "execution_count": 2,
   "metadata": {},
   "outputs": [],
   "source": [
    "url_entree = urlopen(\"https://www.cotedargent.com/carte-du-moment\")\n",
    "url_poisson = urlopen(\"https://www.cotedargent.com/les-viandes-et-les-poissons\")\n",
    "url_viande = urlopen(\"https://www.cotedargent.com/les-viandes\")\n",
    "url_fruitdemer = urlopen(\"https://www.cotedargent.com/les-fruits-de-mer\")\n",
    "url_dessert = urlopen(\"https://www.cotedargent.com/les-fromages-et-les-desserts\")"
   ]
  },
  {
   "cell_type": "code",
   "execution_count": 3,
   "metadata": {},
   "outputs": [],
   "source": [
    "soup_entree = BeautifulSoup(url_entree,\"html.parser\")\n",
    "soup_poisson = BeautifulSoup(url_poisson,\"html.parser\")\n",
    "soup_viande = BeautifulSoup(url_viande,\"html.parser\") \n",
    "soup_fruitdemer = BeautifulSoup(url_fruitdemer,\"html.parser\")\n",
    "soup_dessert = BeautifulSoup(url_dessert,\"html.parser\")"
   ]
  },
  {
   "cell_type": "code",
   "execution_count": 4,
   "metadata": {},
   "outputs": [],
   "source": [
    "entree = soup_entree.select(\".font_6\")\n",
    "poisson = soup_poisson.select(\".font_6\")\n",
    "viande = soup_viande.select(\".font_6\")\n",
    "fruitdemer = soup_fruitdemer.select(\".font_6\")\n",
    "dessert = soup_dessert.select(\".font_6\") "
   ]
  },
  {
   "cell_type": "code",
   "execution_count": 5,
   "metadata": {},
   "outputs": [
    {
     "name": "stdout",
     "output_type": "stream",
     "text": [
      "20,00\n",
      "14,00\n",
      "10,00\n",
      "10,00\n",
      "10,00\n",
      "14,00\n",
      "12,00\n",
      "24,00\n",
      "20,00\n",
      "18,00\n",
      "20,00\n",
      "20,00\n"
     ]
    }
   ],
   "source": [
    "for i in entree:\n",
    "    tempo = re.search(r\"\\d+,\\d{2}\", str(i))\n",
    "    try:\n",
    "        print(tempo.group())\n",
    "    except AttributeError:\n",
    "        pass"
   ]
  },
  {
   "cell_type": "code",
   "execution_count": 6,
   "metadata": {},
   "outputs": [],
   "source": [
    "list_entree = [i.text for i in entree]\n",
    "list_poisson = [i.text for i in poisson]\n",
    "list_viande = [i.text for i in viande]\n",
    "list_fruitdemer = [i.text for i in fruitdemer]\n",
    "list_dessert = [i.text for i in dessert]"
   ]
  },
  {
   "cell_type": "code",
   "execution_count": 7,
   "metadata": {},
   "outputs": [],
   "source": [
    "prix_entree = re.findall(r\"[\\d]+[,][\\d]{2}\",str(list_entree))\n",
    "prix_poisson = re.findall(r\"[\\d]+[,][\\d]{2}\",str(list_poisson))\n",
    "prix_viande = re.findall(r\"[\\d]+[,][\\d]{2}\",str(list_viande))\n",
    "prix_fruitdemer = re.findall(r\"[\\d]+[,][\\d]{2}\",str(list_fruitdemer))\n",
    "prix_dessert = re.findall(r\"[\\d]+[,][\\d]{2}\",str(list_dessert))"
   ]
  },
  {
   "cell_type": "code",
   "execution_count": 8,
   "metadata": {},
   "outputs": [],
   "source": [
    "df_cotedargent = pd.DataFrame(columns=[\"Produit\"])"
   ]
  },
  {
   "cell_type": "code",
   "execution_count": 9,
   "metadata": {},
   "outputs": [],
   "source": [
    "fullist= list_dessert\n",
    "fullist.extend(list_entree)\n",
    "fullist.extend(list_fruitdemer)\n",
    "fullist.extend(list_poisson)\n",
    "fullist.extend(list_viande)"
   ]
  },
  {
   "cell_type": "code",
   "execution_count": 10,
   "metadata": {},
   "outputs": [],
   "source": [
    "tempo=[]\n",
    "for i in fullist:\n",
    "    tempo.append(re.sub(r\"[\\xa0]\",'',i))"
   ]
  },
  {
   "cell_type": "code",
   "execution_count": 11,
   "metadata": {},
   "outputs": [],
   "source": [
    "#df_cotedargent.Produit[0:21] = list_entree\n",
    "#df_cotedargent.Produit[20:32] = list_poisson\n",
    "#df_cotedargent.Produit[32:39] = list_viande\n",
    "#df_cotedargent.Produit[39:46] = list_fruitdemer\n",
    "#df_cotedargent.Produit[46:49] = list_dessert"
   ]
  },
  {
   "cell_type": "code",
   "execution_count": 12,
   "metadata": {
    "scrolled": true
   },
   "outputs": [],
   "source": [
    "df_cotedargent = tempo"
   ]
  },
  {
   "cell_type": "code",
   "execution_count": 13,
   "metadata": {},
   "outputs": [],
   "source": [
    "df_cotedargent = pd.DataFrame(df_cotedargent)"
   ]
  },
  {
   "cell_type": "code",
   "execution_count": 15,
   "metadata": {},
   "outputs": [],
   "source": [
    "pd.DataFrame.to_csv(df_cotedargent,\"/home/coco/Github/webscraping-brasserie/df_cotedargent.csv\")"
   ]
  }
 ],
 "metadata": {
  "kernelspec": {
   "display_name": "Python 3",
   "language": "python",
   "name": "python3"
  },
  "language_info": {
   "codemirror_mode": {
    "name": "ipython",
    "version": 3
   },
   "file_extension": ".py",
   "mimetype": "text/x-python",
   "name": "python",
   "nbconvert_exporter": "python",
   "pygments_lexer": "ipython3",
   "version": "3.6.9"
  }
 },
 "nbformat": 4,
 "nbformat_minor": 2
}
